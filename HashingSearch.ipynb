{
  "nbformat": 4,
  "nbformat_minor": 0,
  "metadata": {
    "colab": {
      "name": "HashingSearch",
      "provenance": [],
      "authorship_tag": "ABX9TyP0Zo7v/I934FFxkSOntSPy",
      "include_colab_link": true
    },
    "kernelspec": {
      "name": "python3",
      "display_name": "Python 3"
    }
  },
  "cells": [
    {
      "cell_type": "markdown",
      "metadata": {
        "id": "view-in-github",
        "colab_type": "text"
      },
      "source": [
        "<a href=\"https://colab.research.google.com/github/vivian890501/algorithms/blob/master/HashingSearch.ipynb\" target=\"_parent\"><img src=\"https://colab.research.google.com/assets/colab-badge.svg\" alt=\"Open In Colab\"/></a>"
      ]
    },
    {
      "cell_type": "markdown",
      "metadata": {
        "id": "opBfbO5QJHAl"
      },
      "source": [
        "線性探測法"
      ]
    },
    {
      "cell_type": "code",
      "metadata": {
        "id": "nBcCDCXYA7ux",
        "outputId": "e040409c-d76f-4e14-82cf-86365a37d52c",
        "colab": {
          "base_uri": "https://localhost:8080/",
          "height": 225
        }
      },
      "source": [
        "import random\n",
        "\n",
        "INDEXBOX=10   #雜湊表最大元素\n",
        "MAXNUM=7     #最大資料個數\n",
        "\n",
        "def print_data(data,max_number):   #列印陣列副程式\n",
        "  print('\\t',end='')\n",
        "  for i in range(max_number):\n",
        "    print('[%2d]'%data[i],end='')\n",
        "  print()\n",
        "\n",
        "def create_table(num,index):   #建立雜湊表副程式\n",
        "  tmp=num%INDEXBOX       #雜湊函數=資料%INDEXBOX\n",
        "  while True:\n",
        "    if index[tmp]==-1:    #如果資料對應的位置是空的\n",
        "       index[tmp]=num    #則直接存入資料\n",
        "       break\n",
        "    else:\n",
        "      tmp=(tmp+1)%INDEXBOX   #否則往後找位置存放\n",
        "\n",
        "\n",
        "#MAIN\n",
        "index=[None]*INDEXBOX\n",
        "data=[None]*MAXNUM\n",
        "\n",
        "print(\"原始陣列值:\")\n",
        "for i in range(MAXNUM):      #起始資料質\n",
        "  data[i]=random.randint(1,20)\n",
        "for i in range(INDEXBOX):     #清除雜湊表\n",
        "  index[i]=-1\n",
        "print_data(data,MAXNUM)\n",
        "\n",
        "print(\"雜湊表內容:\")\n",
        "for i in range(MAXNUM):      #建立雜湊表\n",
        "  create_table(data[i],index)\n",
        "  print(\"  %2d =>\"%data[i],end=\"\")   #列印單一元素的雜湊表位置\n",
        "  print_data(index,INDEXBOX)\n",
        "\n",
        "print(\"完成雜湊表:\")\n",
        "print_data(index,INDEXBOX)  "
      ],
      "execution_count": 7,
      "outputs": [
        {
          "output_type": "stream",
          "text": [
            "原始陣列值:\n",
            "\t[ 6][ 4][ 9][12][12][ 6][12]\n",
            "雜湊表內容:\n",
            "   6 =>\t[-1][-1][-1][-1][-1][-1][ 6][-1][-1][-1]\n",
            "   4 =>\t[-1][-1][-1][-1][ 4][-1][ 6][-1][-1][-1]\n",
            "   9 =>\t[-1][-1][-1][-1][ 4][-1][ 6][-1][-1][ 9]\n",
            "  12 =>\t[-1][-1][12][-1][ 4][-1][ 6][-1][-1][ 9]\n",
            "  12 =>\t[-1][-1][12][12][ 4][-1][ 6][-1][-1][ 9]\n",
            "   6 =>\t[-1][-1][12][12][ 4][-1][ 6][ 6][-1][ 9]\n",
            "  12 =>\t[-1][-1][12][12][ 4][12][ 6][ 6][-1][ 9]\n",
            "完成雜湊表:\n",
            "\t[-1][-1][12][12][ 4][12][ 6][ 6][-1][ 9]\n"
          ],
          "name": "stdout"
        }
      ]
    },
    {
      "cell_type": "markdown",
      "metadata": {
        "id": "ZlAMVdGmJQuU"
      },
      "source": [
        "平方探測法"
      ]
    },
    {
      "cell_type": "code",
      "metadata": {
        "id": "UWh58OawJikL",
        "outputId": "f406287b-f6b4-449f-b1a4-aacc0f0a65dc",
        "colab": {
          "base_uri": "https://localhost:8080/",
          "height": 225
        }
      },
      "source": [
        "import random\n",
        "\n",
        "INDEXBOX=10   #雜湊表最大元素\n",
        "MAXNUM=7     #最大資料個數\n",
        "\n",
        "def print_data(data,max_number):   #列印陣列副程式\n",
        "  print('\\t',end='')\n",
        "  for i in range(max_number):\n",
        "    print('[%2d]'%data[i],end='')\n",
        "  print()\n",
        "\n",
        "def create_table(num,index):   #建立雜湊表副程式\n",
        "  tmp=num%INDEXBOX \n",
        "  i = 1      #雜湊函數=資料%INDEXBOX\n",
        "  while True:\n",
        "    if index[tmp]==-1:    #如果資料對應的位置是空的\n",
        "       index[tmp]=num    #則直接存入資料\n",
        "       break\n",
        "    else:\n",
        "      tmp=num%INDEXBOX\n",
        "      tmp=(tmp+i*i)%INDEXBOX\n",
        "      i+= 1\n",
        "\n",
        "#MAIN\n",
        "index=[None]*INDEXBOX\n",
        "data=[None]*MAXNUM\n",
        "\n",
        "print(\"原始陣列值:\")\n",
        "for i in range(MAXNUM):      #起始資料質\n",
        "  data[i]=random.randint(1,20)\n",
        "for i in range(INDEXBOX):     #清除雜湊表\n",
        "  index[i]=-1\n",
        "print_data(data,MAXNUM)\n",
        "\n",
        "print(\"雜湊表內容:\")\n",
        "for i in range(MAXNUM):      #建立雜湊表\n",
        "  create_table(data[i],index)\n",
        "  print(\"  %2d =>\"%data[i],end=\"\")   #列印單一元素的雜湊表位置\n",
        "  print_data(index,INDEXBOX)\n",
        "\n",
        "print(\"完成雜湊表:\")\n",
        "print_data(index,INDEXBOX) "
      ],
      "execution_count": 27,
      "outputs": [
        {
          "output_type": "stream",
          "text": [
            "原始陣列值:\n",
            "\t[ 7][19][18][ 3][ 2][17][ 7]\n",
            "雜湊表內容:\n",
            "   7 =>\t[-1][-1][-1][-1][-1][-1][-1][ 7][-1][-1]\n",
            "  19 =>\t[-1][-1][-1][-1][-1][-1][-1][ 7][-1][19]\n",
            "  18 =>\t[-1][-1][-1][-1][-1][-1][-1][ 7][18][19]\n",
            "   3 =>\t[-1][-1][-1][ 3][-1][-1][-1][ 7][18][19]\n",
            "   2 =>\t[-1][-1][ 2][ 3][-1][-1][-1][ 7][18][19]\n",
            "  17 =>\t[-1][17][ 2][ 3][-1][-1][-1][ 7][18][19]\n",
            "   7 =>\t[-1][17][ 2][ 3][-1][-1][ 7][ 7][18][19]\n",
            "完成雜湊表:\n",
            "\t[-1][17][ 2][ 3][-1][-1][ 7][ 7][18][19]\n"
          ],
          "name": "stdout"
        }
      ]
    },
    {
      "cell_type": "markdown",
      "metadata": {
        "id": "3ELELhNBPXsd"
      },
      "source": [
        "再雜湊"
      ]
    },
    {
      "cell_type": "code",
      "metadata": {
        "id": "cDSZUNojPfxk",
        "outputId": "e3daffc2-3f55-4162-96e8-904195b244fe",
        "colab": {
          "base_uri": "https://localhost:8080/",
          "height": 225
        }
      },
      "source": [
        "import random\n",
        "\n",
        "INDEXBOX=10   #雜湊表最大元素\n",
        "MAXNUM=7     #最大資料個數\n",
        "\n",
        "def print_data(data,max_number):   #列印陣列副程式\n",
        "  print('\\t',end='')\n",
        "  for i in range(max_number):\n",
        "    print('[%2d]'%data[i],end='')\n",
        "  print()\n",
        "\n",
        "def create_table(num,index):   #建立雜湊表副程式\n",
        "  tmp=num%INDEXBOX \n",
        "  i =1      #雜湊函數=資料%INDEXBOX\n",
        "  while True:\n",
        "    if index[tmp]==-1:    #如果資料對應的位置是空的\n",
        "       index[tmp]=num    #則直接存入資料\n",
        "       break\n",
        "    else:\n",
        "      tmp=num%INDEXBOX\n",
        "      tmp=(tmp+i*2)%INDEXBOX\n",
        "      i+= 1 \n",
        "\n",
        "\n",
        "#MAIN\n",
        "index=[None]*INDEXBOX\n",
        "data=[None]*MAXNUM\n",
        "\n",
        "print(\"原始陣列值:\")\n",
        "for i in range(MAXNUM):      #起始資料質\n",
        "  data[i]=random.randint(1,20)\n",
        "for i in range(INDEXBOX):     #清除雜湊表\n",
        "  index[i]=-1\n",
        "print_data(data,MAXNUM)\n",
        "\n",
        "print(\"雜湊表內容:\")\n",
        "for i in range(MAXNUM):      #建立雜湊表\n",
        "  create_table(data[i],index)\n",
        "  print(\"  %2d =>\"%data[i],end=\"\")   #列印單一元素的雜湊表位置\n",
        "  print_data(index,INDEXBOX)\n",
        "\n",
        "print(\"完成雜湊表:\")\n",
        "print_data(index,INDEXBOX) "
      ],
      "execution_count": 33,
      "outputs": [
        {
          "output_type": "stream",
          "text": [
            "原始陣列值:\n",
            "\t[19][19][19][ 7][ 2][10][ 5]\n",
            "雜湊表內容:\n",
            "  19 =>\t[-1][-1][-1][-1][-1][-1][-1][-1][-1][19]\n",
            "  19 =>\t[-1][19][-1][-1][-1][-1][-1][-1][-1][19]\n",
            "  19 =>\t[-1][19][-1][19][-1][-1][-1][-1][-1][19]\n",
            "   7 =>\t[-1][19][-1][19][-1][-1][-1][ 7][-1][19]\n",
            "   2 =>\t[-1][19][ 2][19][-1][-1][-1][ 7][-1][19]\n",
            "  10 =>\t[10][19][ 2][19][-1][-1][-1][ 7][-1][19]\n",
            "   5 =>\t[10][19][ 2][19][-1][ 5][-1][ 7][-1][19]\n",
            "完成雜湊表:\n",
            "\t[10][19][ 2][19][-1][ 5][-1][ 7][-1][19]\n"
          ],
          "name": "stdout"
        }
      ]
    }
  ]
}