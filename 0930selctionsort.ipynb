{
  "nbformat": 4,
  "nbformat_minor": 0,
  "metadata": {
    "colab": {
      "name": "0930selctionsort.ipynb",
      "provenance": [],
      "collapsed_sections": [],
      "include_colab_link": true
    },
    "kernelspec": {
      "name": "python3",
      "display_name": "Python 3"
    }
  },
  "cells": [
    {
      "cell_type": "markdown",
      "metadata": {
        "id": "view-in-github",
        "colab_type": "text"
      },
      "source": [
        "<a href=\"https://colab.research.google.com/github/vivian890501/algorithms/blob/master/0930selctionsort.ipynb\" target=\"_parent\"><img src=\"https://colab.research.google.com/assets/colab-badge.svg\" alt=\"Open In Colab\"/></a>"
      ]
    },
    {
      "cell_type": "markdown",
      "metadata": {
        "id": "W-Z0kMaDLJOp"
      },
      "source": [
        "Selection sort (選擇排序)"
      ]
    },
    {
      "cell_type": "code",
      "metadata": {
        "id": "8tM3sv79HQ_V",
        "outputId": "6f8f33e4-9c0a-4b77-e492-4954351d4aaa",
        "colab": {
          "base_uri": "https://localhost:8080/",
          "height": 527
        }
      },
      "source": [
        "def Selction_Sort(datas):\n",
        "    for i in range(len(datas)-1):                             #n\n",
        "        min = i # 第一次選從第一個數開始,第二次從第二個數開始\n",
        "        for j in range(i+1, len(datas)):    # 用記錄的max數與其他的比較    #n平方\n",
        "            if datas[j] < datas[min]:\n",
        "                min = j\n",
        "\n",
        "        datas[i], datas[min] = datas[min], datas[i]                #交換數值1次  \n",
        "\n",
        "        print(datas)\n",
        "        print('---'*15)\n",
        "    return datas                                      #1次\n",
        "\n",
        "\n",
        "if __name__ == '__main__':\n",
        "    import random\n",
        "    a = list(range(15))\n",
        "    random.shuffle(a)\n",
        "    print(a)\n",
        "    a = Selction_Sort(a)\n",
        "    print(a)"
      ],
      "execution_count": null,
      "outputs": [
        {
          "output_type": "stream",
          "text": [
            "[6, 8, 7, 13, 14, 0, 1, 5, 3, 4, 11, 12, 10, 9, 2]\n",
            "[0, 8, 7, 13, 14, 6, 1, 5, 3, 4, 11, 12, 10, 9, 2]\n",
            "---------------------------------------------\n",
            "[0, 1, 7, 13, 14, 6, 8, 5, 3, 4, 11, 12, 10, 9, 2]\n",
            "---------------------------------------------\n",
            "[0, 1, 2, 13, 14, 6, 8, 5, 3, 4, 11, 12, 10, 9, 7]\n",
            "---------------------------------------------\n",
            "[0, 1, 2, 3, 14, 6, 8, 5, 13, 4, 11, 12, 10, 9, 7]\n",
            "---------------------------------------------\n",
            "[0, 1, 2, 3, 4, 6, 8, 5, 13, 14, 11, 12, 10, 9, 7]\n",
            "---------------------------------------------\n",
            "[0, 1, 2, 3, 4, 5, 8, 6, 13, 14, 11, 12, 10, 9, 7]\n",
            "---------------------------------------------\n",
            "[0, 1, 2, 3, 4, 5, 6, 8, 13, 14, 11, 12, 10, 9, 7]\n",
            "---------------------------------------------\n",
            "[0, 1, 2, 3, 4, 5, 6, 7, 13, 14, 11, 12, 10, 9, 8]\n",
            "---------------------------------------------\n",
            "[0, 1, 2, 3, 4, 5, 6, 7, 8, 14, 11, 12, 10, 9, 13]\n",
            "---------------------------------------------\n",
            "[0, 1, 2, 3, 4, 5, 6, 7, 8, 9, 11, 12, 10, 14, 13]\n",
            "---------------------------------------------\n",
            "[0, 1, 2, 3, 4, 5, 6, 7, 8, 9, 10, 12, 11, 14, 13]\n",
            "---------------------------------------------\n",
            "[0, 1, 2, 3, 4, 5, 6, 7, 8, 9, 10, 11, 12, 14, 13]\n",
            "---------------------------------------------\n",
            "[0, 1, 2, 3, 4, 5, 6, 7, 8, 9, 10, 11, 12, 14, 13]\n",
            "---------------------------------------------\n",
            "[0, 1, 2, 3, 4, 5, 6, 7, 8, 9, 10, 11, 12, 13, 14]\n",
            "---------------------------------------------\n",
            "[0, 1, 2, 3, 4, 5, 6, 7, 8, 9, 10, 11, 12, 13, 14]\n"
          ],
          "name": "stdout"
        }
      ]
    },
    {
      "cell_type": "markdown",
      "metadata": {
        "id": "MiWPt8bALDN5"
      },
      "source": [
        "請加入註解\n"
      ]
    }
  ]
}