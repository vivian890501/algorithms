{
  "nbformat": 4,
  "nbformat_minor": 0,
  "metadata": {
    "colab": {
      "name": "1118.ipynb",
      "provenance": [],
      "authorship_tag": "ABX9TyOSYfingOpVpIJfLTTiHzhe",
      "include_colab_link": true
    },
    "kernelspec": {
      "name": "python3",
      "display_name": "Python 3"
    }
  },
  "cells": [
    {
      "cell_type": "markdown",
      "metadata": {
        "id": "view-in-github",
        "colab_type": "text"
      },
      "source": [
        "<a href=\"https://colab.research.google.com/github/vivian890501/algorithms/blob/master/1118.ipynb\" target=\"_parent\"><img src=\"https://colab.research.google.com/assets/colab-badge.svg\" alt=\"Open In Colab\"/></a>"
      ]
    },
    {
      "cell_type": "markdown",
      "metadata": {
        "id": "R-WiXmbvk7ag"
      },
      "source": [
        "選擇排序(由大到小)"
      ]
    },
    {
      "cell_type": "code",
      "metadata": {
        "colab": {
          "base_uri": "https://localhost:8080/"
        },
        "id": "2z7BYBAXk6BT",
        "outputId": "ca38e2aa-1ad2-4ae8-92cb-34b7e1cebbf2"
      },
      "source": [
        "def Selction_Sort(datas):\n",
        "    for k in range(len(datas)-1):\n",
        "        max = k             # 第一次選從第一個數開始,第二次從第二個數開始\n",
        "        for j in range(k+1,len(datas)):    # 用記錄的max數與其他的比較\n",
        "            if datas[j] > datas[max]:      #如果j大於目前的最大值，就往前移\n",
        "                max = j\n",
        "\n",
        "        datas[k], datas[max] = datas[max], datas[k]\n",
        "\n",
        "        print(datas)              #把資料列印出來\n",
        "        print('---'*8)            #分隔線\n",
        "    return datas\n",
        "\n",
        "\n",
        "if __name__ == '__main__':\n",
        "    import random\n",
        "    a = list(range(200))                 #隨機選取數字的範圍在200以內\n",
        "    b = random.sample(a,8)               #隨機選取8個數字\n",
        "    \n",
        "    b = Selction_Sort(b)\n",
        "    print(b)"
      ],
      "execution_count": 1,
      "outputs": [
        {
          "output_type": "stream",
          "text": [
            "[197, 78, 88, 33, 163, 154, 40, 121]\n",
            "------------------------\n",
            "[197, 163, 88, 33, 78, 154, 40, 121]\n",
            "------------------------\n",
            "[197, 163, 154, 33, 78, 88, 40, 121]\n",
            "------------------------\n",
            "[197, 163, 154, 121, 78, 88, 40, 33]\n",
            "------------------------\n",
            "[197, 163, 154, 121, 88, 78, 40, 33]\n",
            "------------------------\n",
            "[197, 163, 154, 121, 88, 78, 40, 33]\n",
            "------------------------\n",
            "[197, 163, 154, 121, 88, 78, 40, 33]\n",
            "------------------------\n",
            "[197, 163, 154, 121, 88, 78, 40, 33]\n"
          ],
          "name": "stdout"
        }
      ]
    },
    {
      "cell_type": "markdown",
      "metadata": {
        "id": "r7122Ko9k847"
      },
      "source": [
        "插入排序(由小到大)"
      ]
    },
    {
      "cell_type": "code",
      "metadata": {
        "colab": {
          "base_uri": "https://localhost:8080/"
        },
        "id": "m4t-hV8SlASV",
        "outputId": "955ebc47-1241-4ef9-a6e1-3b964a114f53"
      },
      "source": [
        "def Insertion_Sort(datas):\n",
        "    for i in range(1, len(datas)):  # 將所有數字分成已排列和未排列\n",
        "        for j in range(i):            #j是未排列的數字\n",
        "            current = datas[i]\n",
        "            if current < datas[j]:    #未排序的數字大於以排序的數字\n",
        "                for k in range(i,j):\n",
        "                  print(datas)\n",
        "            \n",
        "    return datas\n",
        "\n",
        "\n",
        "def insertionSort(arr):\n",
        "    for i in range(len(arr)):            #i在陣列裡的範圍\n",
        "        preIndex = i-1\n",
        "        current = arr[i]\n",
        "        while preIndex >= 0 and arr[preIndex] > current:    #已排序大於未排序\n",
        "            arr[preIndex+1] = arr[preIndex]\n",
        "            preIndex-=1\n",
        "        arr[preIndex+1] = current    #更改數字的排列位置\n",
        "        print(arr)                   #將陣列列印出來\n",
        "        print('---'*8)               #分隔線要加在這裡，不能加在上面那段，否則顯示不出來\n",
        "    return arr\n",
        "\n",
        "if __name__ == '__main__':\n",
        "    import random\n",
        "    a = list(range(200))        #隨機從200以內選數字\n",
        "    c = random.sample(a,8)      #在隨機的範圍中選取8個數字\n",
        "    b = c.copy()\n",
        "\n",
        "    arr = insertionSort(c)\n",
        "    Insertion_Sort(b)"
      ],
      "execution_count": 2,
      "outputs": [
        {
          "output_type": "stream",
          "text": [
            "[18, 69, 138, 150, 124, 101, 184, 72]\n",
            "------------------------\n",
            "[18, 69, 138, 150, 124, 101, 184, 72]\n",
            "------------------------\n",
            "[18, 69, 138, 150, 124, 101, 184, 72]\n",
            "------------------------\n",
            "[18, 69, 138, 150, 124, 101, 184, 72]\n",
            "------------------------\n",
            "[18, 69, 124, 138, 150, 101, 184, 72]\n",
            "------------------------\n",
            "[18, 69, 101, 124, 138, 150, 184, 72]\n",
            "------------------------\n",
            "[18, 69, 101, 124, 138, 150, 184, 72]\n",
            "------------------------\n",
            "[18, 69, 72, 101, 124, 138, 150, 184]\n",
            "------------------------\n"
          ],
          "name": "stdout"
        }
      ]
    }
  ]
}