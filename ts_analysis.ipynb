{
  "nbformat": 4,
  "nbformat_minor": 0,
  "metadata": {
    "colab": {
      "name": "ts_analysis",
      "provenance": [],
      "authorship_tag": "ABX9TyPMCV1e+tuSrKiIo1BZngaP",
      "include_colab_link": true
    },
    "kernelspec": {
      "name": "python3",
      "display_name": "Python 3"
    }
  },
  "cells": [
    {
      "cell_type": "markdown",
      "metadata": {
        "id": "view-in-github",
        "colab_type": "text"
      },
      "source": [
        "<a href=\"https://colab.research.google.com/github/vivian890501/algorithms/blob/master/ts_analysis.ipynb\" target=\"_parent\"><img src=\"https://colab.research.google.com/assets/colab-badge.svg\" alt=\"Open In Colab\"/></a>"
      ]
    },
    {
      "cell_type": "markdown",
      "metadata": {
        "id": "e2UsX_x48yQI"
      },
      "source": [
        "每給一個年份,就可以通過該演算法計算得到是否閏年的結果"
      ]
    },
    {
      "cell_type": "code",
      "metadata": {
        "id": "N9wBgbHU33Gx",
        "outputId": "06cd04ce-a7a2-4ea6-a0c4-b051ff5c1cf1",
        "colab": {
          "base_uri": "https://localhost:8080/"
        }
      },
      "source": [
        "year = int(input(\"請輸入一個年份:\"))\n",
        "if (year % 4) == 0 and (year % 100) !=0 or (year % 400) == 0:   #非百年能被4整除才是閏年 百年能被400整除也是閏年\n",
        "    print(\"%s年是閏年\" % year)\n",
        "else:\n",
        "    print(\"%s年不是閏年\" % year)\n",
        "\n",
        "    "
      ],
      "execution_count": 3,
      "outputs": [
        {
          "output_type": "stream",
          "text": [
            "請輸入一個年份:2300\n",
            "2300年不是閏年\n"
          ],
          "name": "stdout"
        }
      ]
    },
    {
      "cell_type": "markdown",
      "metadata": {
        "id": "KkaY7ULU8weq"
      },
      "source": [
        "建立一個2000-2040的陣列,然後把所有的年份按下標的數字對應;\n",
        "如果是閏年,則此陣列元素的值是1,如果不是元素的值則為0。\n",
        "這樣,所謂的判斷某一年是否為閏年就變成了查詢這個陣列某一個元素的值的問題"
      ]
    },
    {
      "cell_type": "code",
      "metadata": {
        "id": "XwA2RIrK79OG",
        "outputId": "2e3411b0-802f-4236-a6ad-8a4ca42569de",
        "colab": {
          "base_uri": "https://localhost:8080/"
        }
      },
      "source": [
        "year = [2000,2004,2008,2012,2016,2020,2024,2028,2032,2036,2040]\n",
        "number = int(input(\"請輸入2000-2040中的任一年份:\")) \n",
        "if number in year :\n",
        "    print(\"%s年是閏年\" % number)\n",
        "else:\n",
        "    print(\"%s年不是閏年\" % number)  "
      ],
      "execution_count": 16,
      "outputs": [
        {
          "output_type": "stream",
          "text": [
            "請輸入2000-2040中的任一年份:2012\n",
            "2012年是閏年\n"
          ],
          "name": "stdout"
        }
      ]
    }
  ]
}