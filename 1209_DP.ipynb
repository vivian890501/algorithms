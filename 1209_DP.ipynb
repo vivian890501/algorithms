{
  "nbformat": 4,
  "nbformat_minor": 0,
  "metadata": {
    "colab": {
      "name": "1209-DP.ipynb",
      "provenance": [],
      "authorship_tag": "ABX9TyOWnl2R3TMlfZFpHxyY6dY1",
      "include_colab_link": true
    },
    "kernelspec": {
      "name": "python3",
      "display_name": "Python 3"
    }
  },
  "cells": [
    {
      "cell_type": "markdown",
      "metadata": {
        "id": "view-in-github",
        "colab_type": "text"
      },
      "source": [
        "<a href=\"https://colab.research.google.com/github/vivian890501/algorithms/blob/master/1209_DP.ipynb\" target=\"_parent\"><img src=\"https://colab.research.google.com/assets/colab-badge.svg\" alt=\"Open In Colab\"/></a>"
      ]
    },
    {
      "cell_type": "code",
      "metadata": {
        "colab": {
          "base_uri": "https://localhost:8080/"
        },
        "id": "A_FGgImicPfp",
        "outputId": "c60d9c3f-7af0-4e1e-92a4-1a17050584f9"
      },
      "source": [
        "\r\n",
        "# Function to find best way to cut a rod of length n\r\n",
        "# where rod of length i has a cost price[i-1]\r\n",
        "def rodCut(price, n):\r\n",
        " \r\n",
        "    # base case\r\n",
        "    if n == 0:\r\n",
        "        return 0\r\n",
        " \r\n",
        "    maxValue = float('-inf')\r\n",
        " \r\n",
        "    # one by one partition the given rod of length n into two parts of length\r\n",
        "    # (1, n-1), (2, n-2), (3, n-3), .... (n-1 , 1), (n, 0) and take maximum\r\n",
        "    for i in range(1, n + 1):\r\n",
        " \r\n",
        "        # rod of length i has a cost price[i-1]\r\n",
        "        cost = price[i - 1] + rodCut(price, n - i)\r\n",
        " \r\n",
        "        if cost > maxValue:\r\n",
        "            maxValue = cost\r\n",
        " \r\n",
        "    return maxValue\r\n",
        " \r\n",
        " \r\n",
        "if __name__ == '__main__':\r\n",
        " \r\n",
        "    # length = [ 1, 2, 3, 4, 5, 6, 7, 8, 9, 10 ]\r\n",
        "    price = [1, 5, 8, 9, 10, 17, 17, 20, 24, 30]\r\n",
        " \r\n",
        "    # rod length\r\n",
        "    n = int(input(\"Enter length:\"))\r\n",
        " \r\n",
        "    print(\"Profit is\", rodCut(price, n))"
      ],
      "execution_count": 34,
      "outputs": [
        {
          "output_type": "stream",
          "text": [
            "Enter length:8\n",
            "Profit is 22\n"
          ],
          "name": "stdout"
        }
      ]
    },
    {
      "cell_type": "code",
      "metadata": {
        "colab": {
          "base_uri": "https://localhost:8080/"
        },
        "id": "U22zY7bphReY",
        "outputId": "488147cb-3753-4561-bbf2-15fcbed0ddb4"
      },
      "source": [
        "\r\n",
        "# Function to find best way to cut a rod of length n\r\n",
        "# where rod of length i has a cost price[i-1]\r\n",
        "def rodCut(price, n):\r\n",
        " \r\n",
        "    # T[i] stores maximum profit achieved from rod of length i\r\n",
        "    T = [0] * (n + 1)\r\n",
        " \r\n",
        "    # consider rod of length i\r\n",
        "    for i in range(1, n + 1):\r\n",
        "        # divide the rod of length i into two rods of length j\r\n",
        "        # and i-j each and take maximum\r\n",
        "        for j in range(1, i + 1):\r\n",
        "            T[i] = max(T[i], price[j - 1] + T[i - j])\r\n",
        " \r\n",
        "    # T[n] stores maximum profit achieved from rod of length n\r\n",
        "    return T[n]\r\n",
        " \r\n",
        " \r\n",
        "if __name__ == '__main__':\r\n",
        " \r\n",
        "    # length = [1, 2, 3, 4, 5, 6, 7, 8]\r\n",
        "    price = [1, 5, 8, 9, 10, 17, 17, 20, 24, 30]\r\n",
        "    n = int(input(\"Enter length:\"))  # rod length\r\n",
        " \r\n",
        "    print(\"Profit is\", rodCut(price, n))"
      ],
      "execution_count": 33,
      "outputs": [
        {
          "output_type": "stream",
          "text": [
            "Enter length:10\n",
            "Profit is 30\n"
          ],
          "name": "stdout"
        }
      ]
    }
  ]
}