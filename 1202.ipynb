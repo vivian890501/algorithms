{
  "nbformat": 4,
  "nbformat_minor": 0,
  "metadata": {
    "colab": {
      "name": "1202",
      "provenance": [],
      "authorship_tag": "ABX9TyPnRlzFP3xfroQ4y52ZiPyh",
      "include_colab_link": true
    },
    "kernelspec": {
      "name": "python3",
      "display_name": "Python 3"
    }
  },
  "cells": [
    {
      "cell_type": "markdown",
      "metadata": {
        "id": "view-in-github",
        "colab_type": "text"
      },
      "source": [
        "<a href=\"https://colab.research.google.com/github/vivian890501/algorithms/blob/master/1202.ipynb\" target=\"_parent\"><img src=\"https://colab.research.google.com/assets/colab-badge.svg\" alt=\"Open In Colab\"/></a>"
      ]
    },
    {
      "cell_type": "markdown",
      "metadata": {
        "id": "ToAp-YOPOcEV"
      },
      "source": [
        "找零問題-貪婪法則"
      ]
    },
    {
      "cell_type": "code",
      "metadata": {
        "colab": {
          "base_uri": "https://localhost:8080/"
        },
        "id": "4gepvloUI5DZ",
        "outputId": "1f2c4b90-0e10-4bd9-ea84-9cfe2d9123f5"
      },
      "source": [
        "#t=面額\n",
        "t = [25,20,5,1]\n",
        "\n",
        "#n=多少錢\n",
        "def change(t,n):\n",
        "\n",
        "  m = [0 for _ in range(len(t))]\n",
        "  for i,money in enumerate(t):\n",
        "    m[i] = n//money\n",
        "    print(m)\n",
        "    n = n % money\n",
        "    \n",
        "  return m,n\n",
        "\n",
        "value = int(input(\"請輸入一個金額:\"))\n",
        "print(change(t,value))\n"
      ],
      "execution_count": 28,
      "outputs": [
        {
          "output_type": "stream",
          "text": [
            "請輸入一個金額:86\n",
            "[3, 0, 0, 0]\n",
            "[3, 0, 0, 0]\n",
            "[3, 0, 2, 0]\n",
            "[3, 0, 2, 1]\n",
            "([3, 0, 2, 1], 0)\n"
          ],
          "name": "stdout"
        }
      ]
    },
    {
      "cell_type": "markdown",
      "metadata": {
        "id": "iLPbBPmDOQHW"
      },
      "source": [
        "找零問題DP"
      ]
    },
    {
      "cell_type": "code",
      "metadata": {
        "colab": {
          "base_uri": "https://localhost:8080/"
        },
        "id": "-Wx6INnaOjxX",
        "outputId": "e4cab112-23d4-40f1-ae78-73f78f39b898"
      },
      "source": [
        "def count(S, m, n): \n",
        "   \n",
        "    table = [[0 for x in range(m)] for x in range(n+1)] \n",
        "  \n",
        "    # 填寫0的case(n=0)\n",
        "    for i in range(m): \n",
        "        table[0][i] = 1\n",
        "  \n",
        "    #由下而上的方式填寫其他列 \n",
        "    for i in range(1, n+1): \n",
        "        for j in range(m): \n",
        "  \n",
        "            # 解決包括S[j]的問題 \n",
        "            x = table[i - S[j]][j] if i-S[j] >= 0 else 0\n",
        "  \n",
        "            # 解決不在S[j]內的問題 \n",
        "            y = table[i][j-1] if j >= 1 else 0\n",
        "  \n",
        "            # total count \n",
        "            table[i][j] = x + y \n",
        "  \n",
        "    return table[n][m-1] \n",
        "  \n",
        "\n",
        "arr = [25,20,5,1] \n",
        "m = len(arr) \n",
        "n = int(input(\"請輸入一個金額:\"))\n",
        "\n",
        "\n",
        "print(change(arr,n))  \n"
      ],
      "execution_count": 27,
      "outputs": [
        {
          "output_type": "stream",
          "text": [
            "請輸入一個金額:45\n",
            "[1, 0, 0, 0]\n",
            "[1, 1, 0, 0]\n",
            "[1, 1, 0, 0]\n",
            "[1, 1, 0, 0]\n",
            "([1, 1, 0, 0], 0)\n"
          ],
          "name": "stdout"
        }
      ]
    },
    {
      "cell_type": "markdown",
      "metadata": {
        "id": "bc4bvHERUdoo"
      },
      "source": [
        "背包問題-貪婪法則"
      ]
    },
    {
      "cell_type": "code",
      "metadata": {
        "colab": {
          "base_uri": "https://localhost:8080/"
        },
        "id": "EhheWO8kUp_T",
        "outputId": "a5f19739-3236-45cc-cc89-7eeb532cf285"
      },
      "source": [
        "def knapSack(W, wt, val, n): \n",
        "  \n",
        "    # Base Case \n",
        "    if n == 0 or W == 0 : \n",
        "        return 0\n",
        "  \n",
        "    # If weight of the nth item is more than Knapsack of capacity \n",
        "    # W, then this item cannot be included in the optimal solution \n",
        "    if (wt[n-1] > W): \n",
        "        return knapSack(W, wt, val, n-1) \n",
        "  \n",
        "    # return the maximum of two cases: \n",
        "    # (1) nth item included \n",
        "    # (2) not included \n",
        "    else: \n",
        "        return max(val[n-1] + knapSack(W-wt[n-1], wt, val, n-1), \n",
        "                   knapSack(W, wt, val, n-1)) \n",
        "  \n",
        "# end of function knapSack \n",
        "  \n",
        "# To test above function \n",
        "val = [17000,35000,60000,9000,20000] \n",
        "wt = [5,1,4,3,2] \n",
        "W = 10\n",
        "n = len(val)\n",
        "\n",
        "print(knapSack(W, wt, val, n))\n"
      ],
      "execution_count": 39,
      "outputs": [
        {
          "output_type": "stream",
          "text": [
            "124000\n"
          ],
          "name": "stdout"
        }
      ]
    },
    {
      "cell_type": "markdown",
      "metadata": {
        "id": "TRo9AqaGUrhm"
      },
      "source": [
        "背包問題DP"
      ]
    },
    {
      "cell_type": "code",
      "metadata": {
        "colab": {
          "base_uri": "https://localhost:8080/"
        },
        "id": "07bI2TLmUwJR",
        "outputId": "642ac88d-9d54-4868-ebc4-bea17365e73d"
      },
      "source": [
        "def knapSack(W, wt, val, n): \n",
        "    K = [[0 for x in range(W + 1)] for x in range(n + 1)] \n",
        "  \n",
        "    # Build table K[][] in bottom up manner \n",
        "    for i in range(n + 1): \n",
        "        for w in range(W + 1): \n",
        "            if i == 0 or w == 0: \n",
        "                K[i][w] = 0\n",
        "            elif wt[i-1] <= w: \n",
        "                K[i][w] = max(val[i-1] \n",
        "                          + K[i-1][w-wt[i-1]],   \n",
        "                              K[i-1][w]) \n",
        "            else: \n",
        "                K[i][w] = K[i-1][w] \n",
        "  \n",
        "    return K[n][W] \n",
        "  \n",
        "  \n",
        "# Driver code \n",
        "val = [17000,35000,60000,9000,20000] \n",
        "wt = [5,1,4,3,2] \n",
        "W = 10\n",
        "n = len(val) \n",
        "print(knapSack(W, wt, val, n)) \n",
        "  "
      ],
      "execution_count": 40,
      "outputs": [
        {
          "output_type": "stream",
          "text": [
            "124000\n"
          ],
          "name": "stdout"
        }
      ]
    }
  ]
}