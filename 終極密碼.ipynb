{
  "nbformat": 4,
  "nbformat_minor": 0,
  "metadata": {
    "colab": {
      "name": "終極密碼",
      "provenance": [],
      "authorship_tag": "ABX9TyOn6kNK7e4/ZHdaSvQEURSN",
      "include_colab_link": true
    },
    "kernelspec": {
      "name": "python3",
      "display_name": "Python 3"
    }
  },
  "cells": [
    {
      "cell_type": "markdown",
      "metadata": {
        "id": "view-in-github",
        "colab_type": "text"
      },
      "source": [
        "<a href=\"https://colab.research.google.com/github/vivian890501/algorithms/blob/master/%E7%B5%82%E6%A5%B5%E5%AF%86%E7%A2%BC.ipynb\" target=\"_parent\"><img src=\"https://colab.research.google.com/assets/colab-badge.svg\" alt=\"Open In Colab\"/></a>"
      ]
    },
    {
      "cell_type": "code",
      "metadata": {
        "id": "j09P48CsJmEl",
        "outputId": "c2ec9a20-da3b-4cc7-9440-93bd0611d1ca",
        "colab": {
          "base_uri": "https://localhost:8080/"
        }
      },
      "source": [
        "from random import randint\n",
        " \n",
        "lowest = 1                  #規定範圍並產生密碼\n",
        "highest = 100\n",
        "answer = randint(lowest, highest)\n",
        " \n",
        "#重複猜數字，直到猜對為止\n",
        "while True:\n",
        "    guess = input('密碼介於 ' + str(lowest) + '-' + str(highest) + ':\\n>>')\n",
        " \n",
        "    #檢查輸入的內容是否為數字\n",
        "    try:\n",
        "        guess = int(guess)    #把字串轉換成整數\n",
        "    except ValueError:        #轉換失敗便要求重新輸入數字\n",
        "        print('格式錯誤，請輸入數字\\n')\n",
        "        continue\n",
        " \n",
        "    #檢查輸入的數字是否介於規定範圍內\n",
        "    if guess <= lowest or guess >= highest:\n",
        "        print('請輸入 ' + str(lowest) + '-' + str(highest) + ' 之間的整數\\n')\n",
        "        continue\n",
        " \n",
        "    #判斷有沒有猜中密碼\n",
        "    if guess == answer:\n",
        "        print('答對了！')\n",
        "        break            #猜對才跳脫迴圈\n",
        "    elif guess < answer:\n",
        "        lowest = guess\n",
        "    else:\n",
        "        highest = guess"
      ],
      "execution_count": 1,
      "outputs": [
        {
          "output_type": "stream",
          "text": [
            "密碼介於 1-100:\n",
            ">>23\n",
            "密碼介於 23-100:\n",
            ">>56\n",
            "密碼介於 23-56:\n",
            ">>45\n",
            "密碼介於 23-45:\n",
            ">>30\n",
            "密碼介於 30-45:\n",
            ">>36\n",
            "密碼介於 30-36:\n",
            ">>33\n",
            "密碼介於 30-33:\n",
            ">>32\n",
            "答對了！\n"
          ],
          "name": "stdout"
        }
      ]
    }
  ]
}