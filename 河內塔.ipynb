{
  "nbformat": 4,
  "nbformat_minor": 0,
  "metadata": {
    "colab": {
      "name": "河內塔",
      "provenance": [],
      "authorship_tag": "ABX9TyNU5KXr36bAd44baIEXUtEb",
      "include_colab_link": true
    },
    "kernelspec": {
      "name": "python3",
      "display_name": "Python 3"
    }
  },
  "cells": [
    {
      "cell_type": "markdown",
      "metadata": {
        "id": "view-in-github",
        "colab_type": "text"
      },
      "source": [
        "<a href=\"https://colab.research.google.com/github/vivian890501/algorithms/blob/master/%E6%B2%B3%E5%85%A7%E5%A1%94.ipynb\" target=\"_parent\"><img src=\"https://colab.research.google.com/assets/colab-badge.svg\" alt=\"Open In Colab\"/></a>"
      ]
    },
    {
      "cell_type": "markdown",
      "metadata": {
        "id": "AAyGnf-_E2NE"
      },
      "source": [
        "終極密碼"
      ]
    },
    {
      "cell_type": "code",
      "metadata": {
        "id": "ExSI7Eua2GZ_",
        "outputId": "3ed3cdcd-59b2-49d0-a1a7-0ef3ee104771",
        "colab": {
          "base_uri": "https://localhost:8080/"
        }
      },
      "source": [
        "sum = 0\n",
        "def factorial(n):\n",
        "   if n==1:\n",
        "     return 1\n",
        "   return n * f(n-1)\n",
        "def hanoi(n, a, b, c):\n",
        "  if n == 1:\n",
        "    global sum\n",
        "    sum += 1\n",
        "    print(a + \"→\" + c + \" 執行次數:\" ,sum)\n",
        "    return\n",
        "  hanoi(n-1, a, c, b)\n",
        "  hanoi(1, a, b, c)\n",
        "  hanoi(n-1, b, a, c)\n",
        "\n",
        "def initialize():\n",
        "  global num\n",
        "  num = 1\n",
        "\n",
        "hanoi(5, \"a\", \"b\", \"c\")\n",
        "print(sum)"
      ],
      "execution_count": 45,
      "outputs": [
        {
          "output_type": "stream",
          "text": [
            "a→c 執行次數: 1\n",
            "a→b 執行次數: 2\n",
            "c→b 執行次數: 3\n",
            "a→c 執行次數: 4\n",
            "b→a 執行次數: 5\n",
            "b→c 執行次數: 6\n",
            "a→c 執行次數: 7\n",
            "a→b 執行次數: 8\n",
            "c→b 執行次數: 9\n",
            "c→a 執行次數: 10\n",
            "b→a 執行次數: 11\n",
            "c→b 執行次數: 12\n",
            "a→c 執行次數: 13\n",
            "a→b 執行次數: 14\n",
            "c→b 執行次數: 15\n",
            "a→c 執行次數: 16\n",
            "b→a 執行次數: 17\n",
            "b→c 執行次數: 18\n",
            "a→c 執行次數: 19\n",
            "b→a 執行次數: 20\n",
            "c→b 執行次數: 21\n",
            "c→a 執行次數: 22\n",
            "b→a 執行次數: 23\n",
            "b→c 執行次數: 24\n",
            "a→c 執行次數: 25\n",
            "a→b 執行次數: 26\n",
            "c→b 執行次數: 27\n",
            "a→c 執行次數: 28\n",
            "b→a 執行次數: 29\n",
            "b→c 執行次數: 30\n",
            "a→c 執行次數: 31\n",
            "31\n"
          ],
          "name": "stdout"
        }
      ]
    }
  ]
}