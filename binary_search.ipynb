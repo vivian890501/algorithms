{
  "nbformat": 4,
  "nbformat_minor": 0,
  "metadata": {
    "colab": {
      "name": "binary search",
      "provenance": [],
      "authorship_tag": "ABX9TyOjxHTUXQuqcT+pbtKVL098",
      "include_colab_link": true
    },
    "kernelspec": {
      "name": "python3",
      "display_name": "Python 3"
    }
  },
  "cells": [
    {
      "cell_type": "markdown",
      "metadata": {
        "id": "view-in-github",
        "colab_type": "text"
      },
      "source": [
        "<a href=\"https://colab.research.google.com/github/vivian890501/algorithms/blob/master/binary_search.ipynb\" target=\"_parent\"><img src=\"https://colab.research.google.com/assets/colab-badge.svg\" alt=\"Open In Colab\"/></a>"
      ]
    },
    {
      "cell_type": "code",
      "metadata": {
        "id": "zGaZCWZc31OX",
        "outputId": "403f0e1e-e11c-4a98-e9ff-ea7bca2ea844",
        "colab": {
          "base_uri": "https://localhost:8080/",
          "height": 35
        }
      },
      "source": [
        "def binarySearch (arr,l,r,x):\n",
        "  if r >= l:\n",
        "    mid = l+(r-l)//2\n",
        "    if arr[mid] == x:\n",
        "      return mid\n",
        "\n",
        "    elif arr[mid] > x:\n",
        "      return binarySearch(arr,l,mid-1,x)\n",
        "\n",
        "    else: \n",
        "      return binarySearch(arr,mid+1,r,x)\n",
        "\n",
        "  else:\n",
        "    return -1\n",
        "\n",
        "arr = [5,8,9,15,30]\n",
        "x = 30\n",
        "\n",
        "#fuction call\n",
        "result = binarySearch(arr,0,len(arr)-1,x)\n",
        "\n",
        "if result != -1:\n",
        "  print(\"元素在所引 %d\"%result)\n",
        "else:\n",
        "  print(\"陣列中找不到該元素\")  "
      ],
      "execution_count": 7,
      "outputs": [
        {
          "output_type": "stream",
          "text": [
            "元素在所引 4\n"
          ],
          "name": "stdout"
        }
      ]
    },
    {
      "cell_type": "code",
      "metadata": {
        "id": "EmSHZvAQ_mKv",
        "outputId": "9ba2c963-2837-4bf3-9a2e-ef2fd209983e",
        "colab": {
          "base_uri": "https://localhost:8080/",
          "height": 87
        }
      },
      "source": [
        "def binarySearch (arr,l,r,x):\n",
        "  if r >= l:\n",
        "    mid = l+(r-l)//2\n",
        "    if arr[mid] == x:\n",
        "      return mid\n",
        "\n",
        "    elif arr[mid] > x:\n",
        "      return binarySearch(arr,l,mid-1,x)\n",
        "\n",
        "    else: \n",
        "      return binarySearch(arr,mid+1,r,x)\n",
        "\n",
        "  else:\n",
        "    return -1\n",
        "\n",
        "def Bubble_Sort(datas):\n",
        "    for i in range(1, len(datas)): # \n",
        "        for j in range(len(datas)-i):   # \n",
        "            if datas[j] > datas[j+1]:   # \n",
        "                datas[j], datas[j+1] = datas[j+1], datas[j]\n",
        "    return datas\n",
        "\n",
        "\n",
        "\n",
        "\n",
        "if __name__ == '__main__':\n",
        "    number = input(\"請輸入5個數字\")    \n",
        "    a = number.split()          #split空格判斷數字\n",
        "    number = Bubble_Sort(a)         #將輸入的五個數字用串列list包起來\n",
        "    print(number)\n",
        "\n",
        "key = input(\"請輸入要搜尋的值:\")\n",
        "\n",
        "#fuction call\n",
        "result = binarySearch(number,0,len(number)-1,key)\n",
        "\n",
        "if result != -1:\n",
        "  print(\"元素在所引 %d\"%result)\n",
        "else:\n",
        "  print(\"陣列中找不到該元素\") "
      ],
      "execution_count": 15,
      "outputs": [
        {
          "output_type": "stream",
          "text": [
            "請輸入5個數字89 56 45 12 48\n",
            "['12', '45', '48', '56', '89']\n",
            "請輸入要搜尋的值:89\n",
            "元素在所引 4\n"
          ],
          "name": "stdout"
        }
      ]
    }
  ]
}